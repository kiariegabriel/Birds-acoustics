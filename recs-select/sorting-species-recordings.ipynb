{
 "cells": [
  {
   "cell_type": "markdown",
   "metadata": {},
   "source": [
    "# "
   ]
  },
  {
   "cell_type": "code",
   "execution_count": 1,
   "metadata": {},
   "outputs": [],
   "source": [
    "import pandas as pd"
   ]
  },
  {
   "cell_type": "markdown",
   "metadata": {},
   "source": [
    "The cell below Reads the five excel files described by their names. Each Excel file contains at least 10\n",
    "sheets. Using pd.concat, one can merge them into a single dataframe."
   ]
  },
  {
   "cell_type": "code",
   "execution_count": 2,
   "metadata": {},
   "outputs": [],
   "source": [
    "df1 = pd.concat(pd.read_excel('2017_02_13_DeKUT_Annotation_File.xlsx', sheet_name=None), ignore_index=True)\n",
    "#df1\n",
    "\n",
    "df2 = pd.concat(pd.read_excel('2017_01_14_DeKUT_Annotation_File.xlsx', sheet_name=None), ignore_index=True)\n",
    "#df2\n",
    "\n",
    "df3 = pd.concat(pd.read_excel('2017_02_16_DeKUT_Annotation_File.xlsx', sheet_name=None), ignore_index=True)\n",
    "#df3\n",
    "\n",
    "df4 = pd.concat(pd.read_excel('2017_11_MKNP_Annotation_File.xlsx', sheet_name=None), ignore_index=True)\n",
    "#df4\n",
    "\n",
    "df5 = pd.concat(pd.read_excel('2018_06_MKNP_Annotation_File.xlsx', sheet_name=None), ignore_index=True)\n",
    "#df5"
   ]
  },
  {
   "cell_type": "code",
   "execution_count": 3,
   "metadata": {
    "scrolled": false
   },
   "outputs": [
    {
     "data": {
      "text/html": [
       "<div>\n",
       "<style scoped>\n",
       "    .dataframe tbody tr th:only-of-type {\n",
       "        vertical-align: middle;\n",
       "    }\n",
       "\n",
       "    .dataframe tbody tr th {\n",
       "        vertical-align: top;\n",
       "    }\n",
       "\n",
       "    .dataframe thead th {\n",
       "        text-align: right;\n",
       "    }\n",
       "</style>\n",
       "<table border=\"1\" class=\"dataframe\">\n",
       "  <thead>\n",
       "    <tr style=\"text-align: right;\">\n",
       "      <th></th>\n",
       "      <th>Recording</th>\n",
       "      <th>Foreground Species</th>\n",
       "      <th>Background Species</th>\n",
       "      <th>Remarks</th>\n",
       "      <th>Unnamed: 4</th>\n",
       "    </tr>\n",
       "  </thead>\n",
       "  <tbody>\n",
       "    <tr>\n",
       "      <th>0</th>\n",
       "      <td>1-2017-02-13-06-46-03</td>\n",
       "      <td>Amethyst Sunbird, Yellow-whiskered Greenbul</td>\n",
       "      <td>Cape Robin Chat</td>\n",
       "      <td>NaN</td>\n",
       "      <td>NaN</td>\n",
       "    </tr>\n",
       "    <tr>\n",
       "      <th>1</th>\n",
       "      <td>1-2017-02-13-06-56-05</td>\n",
       "      <td>Cape Robin Chat</td>\n",
       "      <td>Black-collared Apalis, Red-eyed Dove, Grey-bac...</td>\n",
       "      <td>NaN</td>\n",
       "      <td>NaN</td>\n",
       "    </tr>\n",
       "    <tr>\n",
       "      <th>2</th>\n",
       "      <td>1-2017-02-13-07-21-10</td>\n",
       "      <td>Cape Robin Chat</td>\n",
       "      <td>Yellow-whiskered Greenbul</td>\n",
       "      <td>NaN</td>\n",
       "      <td>NaN</td>\n",
       "    </tr>\n",
       "    <tr>\n",
       "      <th>3</th>\n",
       "      <td>1-2017-02-13-07-36-13</td>\n",
       "      <td>Grey-backed Camaroptera</td>\n",
       "      <td>Tropical Boubou</td>\n",
       "      <td>NaN</td>\n",
       "      <td>NaN</td>\n",
       "    </tr>\n",
       "    <tr>\n",
       "      <th>4</th>\n",
       "      <td>1-2017-02-13-08-41-25</td>\n",
       "      <td>Cape Robin Chat</td>\n",
       "      <td>Tropical Boubou</td>\n",
       "      <td>NaN</td>\n",
       "      <td>NaN</td>\n",
       "    </tr>\n",
       "    <tr>\n",
       "      <th>...</th>\n",
       "      <td>...</td>\n",
       "      <td>...</td>\n",
       "      <td>...</td>\n",
       "      <td>...</td>\n",
       "      <td>...</td>\n",
       "    </tr>\n",
       "    <tr>\n",
       "      <th>445</th>\n",
       "      <td>10-2018-06-20-09-45-36.wav</td>\n",
       "      <td>Unknown call</td>\n",
       "      <td>Brown Woodland Warbler</td>\n",
       "      <td>NaN</td>\n",
       "      <td>NaN</td>\n",
       "    </tr>\n",
       "    <tr>\n",
       "      <th>446</th>\n",
       "      <td>10-2018-06-20-10-00-40.wav</td>\n",
       "      <td>Crowned Eagle</td>\n",
       "      <td>No record</td>\n",
       "      <td>NaN</td>\n",
       "      <td>NaN</td>\n",
       "    </tr>\n",
       "    <tr>\n",
       "      <th>447</th>\n",
       "      <td>10-2018-06-20-10-35-47.wav</td>\n",
       "      <td>No record</td>\n",
       "      <td>No record</td>\n",
       "      <td>NaN</td>\n",
       "      <td>NaN</td>\n",
       "    </tr>\n",
       "    <tr>\n",
       "      <th>448</th>\n",
       "      <td>10-2018-06-20-10-55-52.wav</td>\n",
       "      <td>No record</td>\n",
       "      <td>no record</td>\n",
       "      <td>NaN</td>\n",
       "      <td>NaN</td>\n",
       "    </tr>\n",
       "    <tr>\n",
       "      <th>449</th>\n",
       "      <td>10-2018-06-20-11-00-53.wav</td>\n",
       "      <td>No record</td>\n",
       "      <td>No record</td>\n",
       "      <td>NaN</td>\n",
       "      <td>NaN</td>\n",
       "    </tr>\n",
       "  </tbody>\n",
       "</table>\n",
       "<p>1250 rows × 5 columns</p>\n",
       "</div>"
      ],
      "text/plain": [
       "                      Recording                           Foreground Species  \\\n",
       "0         1-2017-02-13-06-46-03  Amethyst Sunbird, Yellow-whiskered Greenbul   \n",
       "1         1-2017-02-13-06-56-05                              Cape Robin Chat   \n",
       "2         1-2017-02-13-07-21-10                              Cape Robin Chat   \n",
       "3         1-2017-02-13-07-36-13                      Grey-backed Camaroptera   \n",
       "4         1-2017-02-13-08-41-25                              Cape Robin Chat   \n",
       "..                          ...                                          ...   \n",
       "445  10-2018-06-20-09-45-36.wav                                 Unknown call   \n",
       "446  10-2018-06-20-10-00-40.wav                                Crowned Eagle   \n",
       "447  10-2018-06-20-10-35-47.wav                                    No record   \n",
       "448  10-2018-06-20-10-55-52.wav                                    No record   \n",
       "449  10-2018-06-20-11-00-53.wav                                    No record   \n",
       "\n",
       "                                    Background Species Remarks Unnamed: 4  \n",
       "0                                      Cape Robin Chat     NaN        NaN  \n",
       "1    Black-collared Apalis, Red-eyed Dove, Grey-bac...     NaN        NaN  \n",
       "2                            Yellow-whiskered Greenbul     NaN        NaN  \n",
       "3                                      Tropical Boubou     NaN        NaN  \n",
       "4                                      Tropical Boubou     NaN        NaN  \n",
       "..                                                 ...     ...        ...  \n",
       "445                             Brown Woodland Warbler     NaN        NaN  \n",
       "446                                          No record     NaN        NaN  \n",
       "447                                          No record     NaN        NaN  \n",
       "448                                          no record     NaN        NaN  \n",
       "449                                          No record     NaN        NaN  \n",
       "\n",
       "[1250 rows x 5 columns]"
      ]
     },
     "execution_count": 3,
     "metadata": {},
     "output_type": "execute_result"
    }
   ],
   "source": [
    "#Merge the dataframes obtained above into a single dataframe df \n",
    "\n",
    "frames = [df1, df2, df3, df4, df5]\n",
    "\n",
    "df= pd.concat(frames)\n",
    "df"
   ]
  },
  {
   "cell_type": "code",
   "execution_count": 4,
   "metadata": {},
   "outputs": [
    {
     "data": {
      "text/plain": [
       "Recording                0\n",
       "Foreground Species       0\n",
       "Background Species      60\n",
       "Remarks               1126\n",
       "Unnamed: 4            1248\n",
       "dtype: int64"
      ]
     },
     "execution_count": 4,
     "metadata": {},
     "output_type": "execute_result"
    }
   ],
   "source": [
    "df.isnull().sum()  # Find the sum of missing data in each column"
   ]
  },
  {
   "cell_type": "markdown",
   "metadata": {},
   "source": [
    "Some columns contain data that may be insignificant to the analysis one intends to carry out on the dataset.\n",
    "In this case, The 'Unnamed :4' and 'Remarks' have almost every cell under them empty. Dropping them will have little or no\n",
    "effect on our analysis. The cell drops them from the data frame"
   ]
  },
  {
   "cell_type": "code",
   "execution_count": 5,
   "metadata": {},
   "outputs": [],
   "source": [
    "df.drop(['Unnamed: 4','Remarks'], axis=1, inplace=True)"
   ]
  },
  {
   "cell_type": "code",
   "execution_count": 6,
   "metadata": {},
   "outputs": [
    {
     "data": {
      "text/plain": [
       "Recording             0\n",
       "Foreground Species    0\n",
       "Background Species    0\n",
       "dtype: int64"
      ]
     },
     "execution_count": 6,
     "metadata": {},
     "output_type": "execute_result"
    }
   ],
   "source": [
    "# Fill the missing data in the Background Species with 'No record'\n",
    "\n",
    "df['Background Species'].fillna(value='No record', inplace=True)\n",
    "df.isnull().sum()"
   ]
  },
  {
   "cell_type": "markdown",
   "metadata": {},
   "source": [
    "The following cells iterate through the dataframe checking whether the contents of column 2 and 3 of each row matches the one\n",
    "given by the if statement. If there's a match, the row that meets the condition gets printed out. "
   ]
  },
  {
   "cell_type": "code",
   "execution_count": 7,
   "metadata": {},
   "outputs": [
    {
     "name": "stdout",
     "output_type": "stream",
     "text": [
      "Recording                 8-2017-02-13-07-25-33\n",
      "Foreground Species    Yellow-whiskered Greenbul\n",
      "Background Species                    No record\n",
      "Name: 72, dtype: object\n",
      "Recording                 8-2017-02-13-08-10-42\n",
      "Foreground Species    Yellow-whiskered Greenbul\n",
      "Background Species                    No record\n",
      "Name: 75, dtype: object\n"
     ]
    }
   ],
   "source": [
    "for i in range(0,len(df)-1):\n",
    "    if df.iloc[i,1]=='Yellow-whiskered Greenbul' and df.iloc[i,2]=='No record':\n",
    "        x=(df.iloc[i])\n",
    "        print(x)"
   ]
  },
  {
   "cell_type": "code",
   "execution_count": 8,
   "metadata": {},
   "outputs": [
    {
     "name": "stdout",
     "output_type": "stream",
     "text": [
      "Recording               8-2017-02-13-07-10-30\n",
      "Foreground Species    Grey-backed Camaroptera\n",
      "Background Species                  No record\n",
      "Name: 70, dtype: object\n"
     ]
    }
   ],
   "source": [
    "for i in range(0,len(df)-1):\n",
    "    if df.iloc[i,1]=='Grey-backed Camaroptera' and df.iloc[i,2]=='No record':\n",
    "        x=(df.iloc[i])\n",
    "        print(x)"
   ]
  },
  {
   "cell_type": "code",
   "execution_count": 9,
   "metadata": {},
   "outputs": [
    {
     "name": "stdout",
     "output_type": "stream",
     "text": [
      "Recording             6-2017-11-25-07-15-49.wav\n",
      "Foreground Species            Hartlaub's Turaco\n",
      "Background Species                    No record\n",
      "Name: 293, dtype: object\n",
      "Recording             6-2017-11-25-07-20-49.wav\n",
      "Foreground Species            Hartlaub's Turaco\n",
      "Background Species                    No record\n",
      "Name: 294, dtype: object\n"
     ]
    }
   ],
   "source": [
    "for i in range(0,len(df)-1):\n",
    "    if df.iloc[i,1]==\"Hartlaub's Turaco\" and df.iloc[i,2]=='No record':\n",
    "        x=(df.iloc[i])\n",
    "        print(x)"
   ]
  },
  {
   "cell_type": "code",
   "execution_count": 10,
   "metadata": {},
   "outputs": [
    {
     "name": "stdout",
     "output_type": "stream",
     "text": [
      "Recording             10-2017-11-22-09-28-20.wav\n",
      "Foreground Species      Yellow-rumped Tinkerbird\n",
      "Background Species                     No record\n",
      "Name: 497, dtype: object\n"
     ]
    }
   ],
   "source": [
    "for i in range(0,len(df)-1):\n",
    "    if df.iloc[i,1]==\"Yellow-rumped Tinkerbird\" and df.iloc[i,2]=='No record':\n",
    "        x=(df.iloc[i])\n",
    "        print(x)"
   ]
  },
  {
   "cell_type": "code",
   "execution_count": 11,
   "metadata": {},
   "outputs": [],
   "source": [
    "#df.to_csv('Brds.csv')"
   ]
  },
  {
   "cell_type": "code",
   "execution_count": null,
   "metadata": {},
   "outputs": [],
   "source": []
  },
  {
   "cell_type": "code",
   "execution_count": null,
   "metadata": {},
   "outputs": [],
   "source": []
  },
  {
   "cell_type": "code",
   "execution_count": null,
   "metadata": {},
   "outputs": [],
   "source": []
  },
  {
   "cell_type": "code",
   "execution_count": null,
   "metadata": {},
   "outputs": [],
   "source": []
  },
  {
   "cell_type": "code",
   "execution_count": null,
   "metadata": {},
   "outputs": [],
   "source": []
  },
  {
   "cell_type": "code",
   "execution_count": null,
   "metadata": {},
   "outputs": [],
   "source": []
  },
  {
   "cell_type": "code",
   "execution_count": null,
   "metadata": {},
   "outputs": [],
   "source": []
  },
  {
   "cell_type": "code",
   "execution_count": null,
   "metadata": {},
   "outputs": [],
   "source": []
  },
  {
   "cell_type": "code",
   "execution_count": null,
   "metadata": {},
   "outputs": [],
   "source": []
  },
  {
   "cell_type": "code",
   "execution_count": null,
   "metadata": {},
   "outputs": [],
   "source": []
  }
 ],
 "metadata": {
  "kernelspec": {
   "display_name": "Python 3",
   "language": "python",
   "name": "python3"
  },
  "language_info": {
   "codemirror_mode": {
    "name": "ipython",
    "version": 3
   },
   "file_extension": ".py",
   "mimetype": "text/x-python",
   "name": "python",
   "nbconvert_exporter": "python",
   "pygments_lexer": "ipython3",
   "version": "3.7.6"
  }
 },
 "nbformat": 4,
 "nbformat_minor": 4
}

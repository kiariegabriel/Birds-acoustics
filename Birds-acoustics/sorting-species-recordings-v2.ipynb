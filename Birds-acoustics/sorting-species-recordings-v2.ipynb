{
 "cells": [
  {
   "cell_type": "markdown",
   "metadata": {},
   "source": [
    "# "
   ]
  },
  {
   "cell_type": "code",
   "execution_count": null,
   "metadata": {},
   "outputs": [],
   "source": [
    "import pandas as pd"
   ]
  },
  {
   "cell_type": "markdown",
   "metadata": {},
   "source": [
    "The cell below Reads the five excel files described by their names. Each Excel file contains at least 10\n",
    "sheets. Using pd.concat, one can merge them into a single dataframe."
   ]
  },
  {
   "cell_type": "code",
   "execution_count": null,
   "metadata": {},
   "outputs": [],
   "source": [
    "df1 = pd.concat(pd.read_excel('2017_02_13_DeKUT_Annotation_File.xlsx', sheet_name=None), ignore_index=True)\n",
    "#df1\n",
    "\n",
    "df2 = pd.concat(pd.read_excel('2017_01_14_DeKUT_Annotation_File.xlsx', sheet_name=None), ignore_index=True)\n",
    "#df2\n",
    "\n",
    "df3 = pd.concat(pd.read_excel('2017_02_16_DeKUT_Annotation_File.xlsx', sheet_name=None), ignore_index=True)\n",
    "#df3\n",
    "\n",
    "df4 = pd.concat(pd.read_excel('2017_11_MKNP_Annotation_File.xlsx', sheet_name=None), ignore_index=True)\n",
    "#df4\n",
    "\n",
    "df5 = pd.concat(pd.read_excel('2018_06_MKNP_Annotation_File.xlsx', sheet_name=None), ignore_index=True)\n",
    "#df5"
   ]
  },
  {
   "cell_type": "code",
   "execution_count": null,
   "metadata": {
    "scrolled": false
   },
   "outputs": [],
   "source": [
    "#Merge the dataframes obtained above into a single dataframe df \n",
    "\n",
    "frames = [df1, df2, df3, df4, df5]\n",
    "\n",
    "df= pd.concat(frames)\n",
    "df"
   ]
  },
  {
   "cell_type": "code",
   "execution_count": null,
   "metadata": {},
   "outputs": [],
   "source": [
    "# We can achieve the above in the following way\n",
    "import os\n",
    "\n",
    "# create a list with all annotation files\n",
    "# this is known as list comprehension\n",
    "annotation_files = [filename for filename in os.listdir('./') if filename.endswith('.xlsx')]\n",
    "\n",
    "annotation_df = pd.DataFrame()\n",
    "for annotation_file in annotation_files:\n",
    "    curr_df = pd.read_excel(annotation_file, sheet_name=None)\n",
    "    \n",
    "    # concatenate all sheets\n",
    "    annotation_df = pd.concat([annotation_df, pd.concat(curr_df, \n",
    "                                                        ignore_index=True)], \n",
    "                              ignore_index=True)"
   ]
  },
  {
   "cell_type": "code",
   "execution_count": null,
   "metadata": {},
   "outputs": [],
   "source": [
    "annotation_df"
   ]
  },
  {
   "cell_type": "code",
   "execution_count": null,
   "metadata": {},
   "outputs": [],
   "source": [
    "df.isnull().sum()  # Find the sum of missing data in each column"
   ]
  },
  {
   "cell_type": "markdown",
   "metadata": {},
   "source": [
    "Some columns contain data that may be insignificant to the analysis one intends to carry out on the dataset.\n",
    "In this case, The 'Unnamed :4' and 'Remarks' have almost every cell under them empty. Dropping them will have little or no\n",
    "effect on our analysis. The cell drops them from the data frame"
   ]
  },
  {
   "cell_type": "code",
   "execution_count": null,
   "metadata": {},
   "outputs": [],
   "source": [
    "df.drop(['Unnamed: 4','Remarks'], axis=1, inplace=True)"
   ]
  },
  {
   "cell_type": "code",
   "execution_count": null,
   "metadata": {},
   "outputs": [],
   "source": [
    "# Fill the missing data in the Background Species with 'No record'\n",
    "\n",
    "df['Background Species'].fillna(value='No record', inplace=True)\n",
    "df.isnull().sum()"
   ]
  },
  {
   "cell_type": "markdown",
   "metadata": {},
   "source": [
    "The following cells iterate through the dataframe checking whether the contents of column 2 and 3 of each row matches the one\n",
    "given by the if statement. If there's a match, the row that meets the condition gets printed out. "
   ]
  },
  {
   "cell_type": "code",
   "execution_count": null,
   "metadata": {},
   "outputs": [],
   "source": [
    "for i in range(0,len(df)-1):\n",
    "    if df.iloc[i,1]=='Yellow-whiskered Greenbul' and df.iloc[i,2]=='No record':\n",
    "        x=(df.iloc[i])\n",
    "        print(x)"
   ]
  },
  {
   "cell_type": "code",
   "execution_count": null,
   "metadata": {},
   "outputs": [],
   "source": [
    "for i in range(0,len(df)-1):\n",
    "    if df.iloc[i,1]=='Grey-backed Camaroptera' and df.iloc[i,2]=='No record':\n",
    "        x=(df.iloc[i])\n",
    "        print(x)"
   ]
  },
  {
   "cell_type": "code",
   "execution_count": null,
   "metadata": {},
   "outputs": [],
   "source": [
    "for i in range(0,len(df)-1):\n",
    "    if df.iloc[i,1]==\"Hartlaub's Turaco\" and df.iloc[i,2]=='No record':\n",
    "        x=(df.iloc[i])\n",
    "        print(x)"
   ]
  },
  {
   "cell_type": "code",
   "execution_count": null,
   "metadata": {},
   "outputs": [],
   "source": [
    "for i in range(0,len(df)-1):\n",
    "    if df.iloc[i,1]==\"Yellow-rumped Tinkerbird\" and df.iloc[i,2]=='No record':\n",
    "        x=(df.iloc[i])\n",
    "        print(x)"
   ]
  },
  {
   "cell_type": "code",
   "execution_count": null,
   "metadata": {},
   "outputs": [],
   "source": [
    "#df.to_csv('Brds.csv')"
   ]
  },
  {
   "cell_type": "code",
   "execution_count": null,
   "metadata": {},
   "outputs": [],
   "source": []
  },
  {
   "cell_type": "code",
   "execution_count": null,
   "metadata": {},
   "outputs": [],
   "source": []
  },
  {
   "cell_type": "code",
   "execution_count": null,
   "metadata": {},
   "outputs": [],
   "source": []
  },
  {
   "cell_type": "code",
   "execution_count": null,
   "metadata": {},
   "outputs": [],
   "source": []
  },
  {
   "cell_type": "code",
   "execution_count": null,
   "metadata": {},
   "outputs": [],
   "source": []
  },
  {
   "cell_type": "code",
   "execution_count": null,
   "metadata": {},
   "outputs": [],
   "source": []
  },
  {
   "cell_type": "code",
   "execution_count": null,
   "metadata": {},
   "outputs": [],
   "source": []
  },
  {
   "cell_type": "code",
   "execution_count": null,
   "metadata": {},
   "outputs": [],
   "source": []
  },
  {
   "cell_type": "code",
   "execution_count": null,
   "metadata": {},
   "outputs": [],
   "source": []
  },
  {
   "cell_type": "code",
   "execution_count": null,
   "metadata": {},
   "outputs": [],
   "source": []
  }
 ],
 "metadata": {
  "kernelspec": {
   "display_name": "Python 3",
   "language": "python",
   "name": "python3"
  },
  "language_info": {
   "codemirror_mode": {
    "name": "ipython",
    "version": 3
   },
   "file_extension": ".py",
   "mimetype": "text/x-python",
   "name": "python",
   "nbconvert_exporter": "python",
   "pygments_lexer": "ipython3",
   "version": "3.7.3"
  }
 },
 "nbformat": 4,
 "nbformat_minor": 4
}
